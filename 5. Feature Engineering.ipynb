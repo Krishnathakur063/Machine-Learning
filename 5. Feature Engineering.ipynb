{
 "cells": [
  {
   "cell_type": "markdown",
   "metadata": {},
   "source": [
    "# Feature Engineering :-\n",
    "\n",
    "                Feature Engineering is the process of using domain knowledge to extract features from raw data. \n",
    "                These features can be used to improve the performance of machine learning algorithms.\n",
    "                \n",
    "                <img src=\"/Feature-Engineering-Machine-Learning-Diagram.png\">\n",
    "\n",
    "                <img src=\"/Feature Engineering Flow Chart.png\">"
   ]
  },
  {
   "cell_type": "code",
   "execution_count": null,
   "metadata": {},
   "outputs": [],
   "source": []
  },
  {
   "cell_type": "code",
   "execution_count": null,
   "metadata": {},
   "outputs": [],
   "source": []
  }
 ],
 "metadata": {
  "kernelspec": {
   "display_name": "Python 3",
   "language": "python",
   "name": "python3"
  },
  "language_info": {
   "codemirror_mode": {
    "name": "ipython",
    "version": 3
   },
   "file_extension": ".py",
   "mimetype": "text/x-python",
   "name": "python",
   "nbconvert_exporter": "python",
   "pygments_lexer": "ipython3",
   "version": "3.10.9"
  }
 },
 "nbformat": 4,
 "nbformat_minor": 2
}
